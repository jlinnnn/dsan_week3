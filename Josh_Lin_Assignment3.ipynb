{
 "cells": [
  {
   "attachments": {},
   "cell_type": "markdown",
   "metadata": {},
   "source": [
    "# Assignment 3\n",
    "\n",
    "\n",
    "### Instructions:\n",
    "\n",
    "Assignment 3 will cover Control Flow and I/O. The overall goal of this assignment is to ensure that you are comfortable with Control Flow structures like if/else statements and for/while loops as well as how to interact with files in Python. Follow the steps below to ensure that you receive a passing grade:\n",
    "\n",
    "    - Complete the following tasks within this notebook\n",
    "    - When finished, convert this notebook to an HTML/PDF file\n",
    "    - Place the following items into a zip folder:\n",
    "        - assignment.HTML or assignment.PDF\n",
    "        - assignment.ipynb\n",
    "    - Name this folder using the naming convention: FIRSTNAME_LASTNAME_ASSIGNMENT3.zip\n",
    "        - For example, If your name was Jane Doe, then the zipped folder should be called JANE_DOE_ASSIGNMENT3.zip"
   ]
  },
  {
   "attachments": {},
   "cell_type": "markdown",
   "metadata": {},
   "source": [
    "## 1. Compound-Interest Problem \n",
    "\n",
    "Let's say a person invests money in a savings account that yields interest. Assuming that the person leaves all interest on deposit in the account, your goal is to **create a function** that calculates and displays the amount of money in the account at the end of **each** year for $10$ years. Use the following formula for determining these amounts:\n",
    "\n",
    "$$ a = p(1 + r)^n $$\n",
    "\n",
    "where\n",
    "\n",
    "* $p$ is the original amount invested (i.e., the principal)\n",
    "\n",
    "* $r$ is the annual interest rate\n",
    "\n",
    "* $n$ is the number of years\n",
    "\n",
    "* $a$ is the amount on deposit at the end of the $n^{\\ th}$ year.\n",
    "\n",
    "In your function, let $r$, the annual interest rate, be a default argument set to $5\\%$\n",
    "\n",
    "Use the `round()` function to round the compound interest to the nearest cent."
   ]
  },
  {
   "cell_type": "code",
   "execution_count": 1,
   "metadata": {},
   "outputs": [
    {
     "name": "stdout",
     "output_type": "stream",
     "text": [
      "3.14\n"
     ]
    }
   ],
   "source": [
    "pi = 3.14159\n",
    "pi = round(pi,2) # round pi to 2 decimal points, then reassign to pi\n",
    "print(pi)"
   ]
  },
  {
   "attachments": {},
   "cell_type": "markdown",
   "metadata": {},
   "source": [
    "*Hint:* You will have to use a `for` loop and the `range()` function. Think about what the arguments for the `range()` function should be. Should the first value in the loop be $0$ or $1$?"
   ]
  },
  {
   "cell_type": "code",
   "execution_count": 27,
   "metadata": {},
   "outputs": [],
   "source": [
    "def comInterest(p,r):\n",
    "    #initializing variables\n",
    "    rate = r / 100\n",
    "    n = range(1, 11)\n",
    "\n",
    "    #This is where the calculation takes place & where the rounding happens\n",
    "    for i in n:\n",
    "        amount = float((p*((1+rate)**i)))\n",
    "        amount = round(amount,2)\n",
    "        print(\"Year\",i,\":\",amount)"
   ]
  },
  {
   "attachments": {},
   "cell_type": "markdown",
   "metadata": {},
   "source": [
    "#### Now call your function using a  principal balance of $\\$1000$, and the default interest rate"
   ]
  },
  {
   "cell_type": "code",
   "execution_count": 30,
   "metadata": {},
   "outputs": [
    {
     "name": "stdout",
     "output_type": "stream",
     "text": [
      "Year 1 : 1050.0\n",
      "Year 2 : 1102.5\n",
      "Year 3 : 1157.63\n",
      "Year 4 : 1215.51\n",
      "Year 5 : 1276.28\n",
      "Year 6 : 1340.1\n",
      "Year 7 : 1407.1\n",
      "Year 8 : 1477.46\n",
      "Year 9 : 1551.33\n",
      "Year 10 : 1628.89\n"
     ]
    }
   ],
   "source": [
    "comInterest(1000, 5)"
   ]
  },
  {
   "attachments": {},
   "cell_type": "markdown",
   "metadata": {},
   "source": [
    "#### Call your function using a  principal balance of $\\$5000$, and the default interest rate"
   ]
  },
  {
   "cell_type": "code",
   "execution_count": 31,
   "metadata": {},
   "outputs": [
    {
     "name": "stdout",
     "output_type": "stream",
     "text": [
      "Year 1 : 5250.0\n",
      "Year 2 : 5512.5\n",
      "Year 3 : 5788.13\n",
      "Year 4 : 6077.53\n",
      "Year 5 : 6381.41\n",
      "Year 6 : 6700.48\n",
      "Year 7 : 7035.5\n",
      "Year 8 : 7387.28\n",
      "Year 9 : 7756.64\n",
      "Year 10 : 8144.47\n"
     ]
    }
   ],
   "source": [
    "comInterest(5000, 5)"
   ]
  },
  {
   "attachments": {},
   "cell_type": "markdown",
   "metadata": {},
   "source": [
    "#### Now call your function using a  principal balance of $\\$1000$, and an interest rate of $2\\%$"
   ]
  },
  {
   "cell_type": "code",
   "execution_count": 32,
   "metadata": {},
   "outputs": [
    {
     "name": "stdout",
     "output_type": "stream",
     "text": [
      "Year 1 : 1020.0\n",
      "Year 2 : 1040.4\n",
      "Year 3 : 1061.21\n",
      "Year 4 : 1082.43\n",
      "Year 5 : 1104.08\n",
      "Year 6 : 1126.16\n",
      "Year 7 : 1148.69\n",
      "Year 8 : 1171.66\n",
      "Year 9 : 1195.09\n",
      "Year 10 : 1218.99\n"
     ]
    }
   ],
   "source": [
    "comInterest(1000, 2)"
   ]
  },
  {
   "attachments": {},
   "cell_type": "markdown",
   "metadata": {},
   "source": [
    "#### Now call your function using a  principal balance of $\\$5000$, and an interest rate of $3\\%$"
   ]
  },
  {
   "cell_type": "code",
   "execution_count": 33,
   "metadata": {},
   "outputs": [
    {
     "name": "stdout",
     "output_type": "stream",
     "text": [
      "Year 1 : 5150.0\n",
      "Year 2 : 5304.5\n",
      "Year 3 : 5463.64\n",
      "Year 4 : 5627.54\n",
      "Year 5 : 5796.37\n",
      "Year 6 : 5970.26\n",
      "Year 7 : 6149.37\n",
      "Year 8 : 6333.85\n",
      "Year 9 : 6523.87\n",
      "Year 10 : 6719.58\n"
     ]
    }
   ],
   "source": [
    "comInterest(5000, 3)"
   ]
  },
  {
   "attachments": {},
   "cell_type": "markdown",
   "metadata": {},
   "source": [
    "## 2. Declaration of Independence Text Scraping\n",
    "\n",
    "The file `DeclarationOfIndependence.txt` contains a transcript of the entire United States Declaration of Independence from 1776. Your goal is to open the file then find and **print** the longest word that is contained within the document.\n",
    "\n",
    "*Hint:* You'll want to use the `split()` function from Week 2. Also be sure to replace all `\\n` (newline) characters with the a space using the `replace()` function."
   ]
  },
  {
   "cell_type": "code",
   "execution_count": 79,
   "metadata": {},
   "outputs": [
    {
     "name": "stdout",
     "output_type": "stream",
     "text": [
      "The longest word in The Declaration of Independence: undistinguished\n"
     ]
    }
   ],
   "source": [
    "def find_longest_word(file):\n",
    "    #file = open(\"DeclarationOfIndependence.txt\", 'r')\n",
    "    with open(\"DeclarationOfIndependence.txt\", 'r') as file:\n",
    "        content = file.read()\n",
    "        revisedContent = content.replace(\"\\n\", \" \")\n",
    "        words = revisedContent.split(\" \")\n",
    "        lengthWord = []\n",
    "\n",
    "        #We are trying to populate lengthWord with the length of each word\n",
    "        for i in words:\n",
    "            bigWord = len(i)\n",
    "            lengthWord.append(bigWord)\n",
    "\n",
    "        #This lets us know the highest value (15) in lengthWord := an array that holds the length of each word \n",
    "        #print(max(lengthWord))\n",
    "        \n",
    "        #We want to figure out what index \"15\" is in \"lengthWord\"\n",
    "        #print(lengthWord.index(15))\n",
    "\n",
    "        #We want to figure out what the word at the 998th index in \"words\"\n",
    "        answer = words[998]\n",
    "    print(\"The longest word in The Declaration of Independence:\", answer)\n",
    "\n",
    "find_longest_word(\"DeclarationOfIndependence.txt\")"
   ]
  },
  {
   "attachments": {},
   "cell_type": "markdown",
   "metadata": {},
   "source": [
    "## 3. Dracula: Text analysis \n",
    "\n",
    "**Without** the use of any external python packages, do the following;\n",
    "\n",
    "* Open the file dracula.txt \n",
    "\n",
    "* Read the file line by line and break the novel text into its individual paragraphs.  \n",
    "  * Build a python list called \"paragraphs\" whose elements are strings for each individual paragraph.\n",
    "\n",
    "  * **Paragraph definition:** \n",
    "    * For the purposes of this exercise, consider a paragraph as any chunk of text with an empty line both above and below it. \n",
    "    * The paragraph must also be NON-EMPTY (i.e. paragraph != \"\"). \n",
    "  * **Word definition** \n",
    "    * For the purposes of this exercise, consider a \"word\" to be any text with a space on the left and right\n",
    "<br /><br />\n",
    "* Only consider the text of the novel, i.e. remove the lines before and after the novel starts and finishes from your analysis. \n",
    "  * To do this only analyze between the following lines\n",
    "    * Start_line --> \"CHAPTER I\\n\"\n",
    "    * end_line --> \"THE END\\n\"\n",
    "    * Ideally, use a string comparison to find these lines, however, if you need to you can also use their line number (which is easier). \n",
    "<br /><br />\n",
    "* At the end print the following quantities\n",
    "  * Novel starts at line = \n",
    "  * Novel ends at line  =  \n",
    "  * Number of paragraphs = \n",
    "  * Average number of characters per paragraph (excluding spaces) = \n",
    "  * Average number of words per paragraph = \n",
    "\n",
    "**NOTE**: If you get stuck and cannot figure out how to proceed, then email your TA. They will provide you with a partial solution to help you move forward."
   ]
  },
  {
   "cell_type": "code",
   "execution_count": 55,
   "metadata": {},
   "outputs": [
    {
     "name": "stdout",
     "output_type": "stream",
     "text": [
      "**Paragrpah Analysis**\n",
      "Novel starts at line = 107\n",
      "Novel ends at line = 15427\n",
      "Number of paragraphs = 2174\n",
      "Average number of characters per paragraph (excluding spaces) = 310\n",
      "Average number of words per paragraph = 73\n",
      "\n",
      "**Sentence Analysis**\n",
      "Number of sentences = 11364\n",
      "Average number of characters per sentence (excluding spaces) = 56\n",
      "Average number of words per sentence = 13\n"
     ]
    }
   ],
   "source": [
    "def analyze_paragraph(file):\n",
    "    #USER PARAMETERS\n",
    "    line_num=0\n",
    "    inside_novel=False\n",
    "    start_line = 0\n",
    "    end_line = 0\n",
    "    beginning_of_paragraph=True\n",
    "    cur_paragraph = \"\"\n",
    "    capitals=\"abcdefghijklmnopqrstuvwxyz\".upper()\n",
    "    paragraphs=[]\n",
    "    sentences=[]\n",
    "\n",
    "    #READ FILE \n",
    "    with open('dracula.txt', 'r') as file:\n",
    "        #LOOP OVER THE LINES\n",
    "        for line in file: \n",
    "            #This checks for if we are currently in in the novel itself & keep track of the line in which the novel's content starts at \n",
    "            if(line == \"CHAPTER I\\n\" and inside_novel == False):\n",
    "                start_line = line_num\n",
    "                inside_novel = True\n",
    "\n",
    "            #The outer if function executes only when we're inside the novel \n",
    "            if (inside_novel):\n",
    "                #If we're at the beginning of the paragraph we want to intialize an empty string \"cur_paragraphs\" to store paragraph content\n",
    "                if (beginning_of_paragraph):\n",
    "                    cur_paragraph = \"\"\n",
    "                    beginning_of_paragraph = False\n",
    "\n",
    "                #Paragrpah Analysis\n",
    "                #At this point we are within the paragraph \n",
    "                if (not beginning_of_paragraph):\n",
    "                    #This condition analyzes that we have reached the end of the paragraph; preparing for the upcoming paragraph, while adding the current paragraph to a list labeled \"paragraphs\"\n",
    "                    if (line.strip() == \"\" and cur_paragraph != \"\"):\n",
    "                        beginning_of_paragraph = True\n",
    "                        paragraphs.append(cur_paragraph)\n",
    "                    #If not empty then first we strip all whitespaces then add it to cur_paragraph\n",
    "                    else:\n",
    "                        cur_paragraph += line.strip()+\" \"\n",
    "                num_paragraphs = len(paragraphs) \n",
    "\n",
    "                #Sentence analysis\n",
    "                #Attempting to create a list of \"words\" from given line\n",
    "                words = line.strip().split()\n",
    "                if len(words) > 0:\n",
    "                    # Check for sentence starting with capital letter followed by \".\"; once found it will be appended to a list called \"sentences\"\n",
    "                    if words[0][0] in capitals and words[0].endswith(\". \"):\n",
    "                        sentences.append(line.strip())\n",
    "                    #This elif is execeuted when the given line does not meet the guidelines\n",
    "                    elif len(line.strip()) > 50:\n",
    "                        sentences.append(line.strip())\n",
    "\n",
    "            #This checks if we have reached the end of the novel and it will have kept track of the line number in which the novel's content ended at\n",
    "            if(line == \"THE END\\n\" and inside_novel == True):\n",
    "                end_line = line_num\n",
    "                inside_novel = False   \n",
    "\n",
    "            line_num += 1         \n",
    "\n",
    "    #Paragraph Analysis Variables\n",
    "    S1 = 0\n",
    "    S2 = 0\n",
    "    N1 = 0\n",
    "    N2 = 0 \n",
    "\n",
    "    #This for loop iterates through each \"cur_paragraph\" in paragraphs[]\n",
    "    for cur_paragraph in paragraphs:\n",
    "        #Calculates number of characters in each paragraph\n",
    "        num_char = len(cur_paragraph.replace(\" \", \"\"))\n",
    "        S1 += num_char\n",
    "        N1 += 1\n",
    "\n",
    "        #Calculates number of words in each paragraph\n",
    "        num_word = len(cur_paragraph.split())\n",
    "        S2 += num_word\n",
    "        N2 += 1\n",
    "\n",
    "    #Sentence Analysis Variables\n",
    "    S3 = 0\n",
    "    N3 = 0\n",
    "    S4 = 0\n",
    "    N4 = 0\n",
    "\n",
    "    #This for loop iterates through each \"sentence\" in sentences[]\n",
    "    for sentence in sentences:\n",
    "\n",
    "        # Calculates number of characters in each sentence\n",
    "        num_char = len(sentence.replace(\" \", \"\"))\n",
    "        S3 += num_char\n",
    "        N3 += 1\n",
    "\n",
    "        # Calculates number of words in each sentence\n",
    "        num_word = len(sentence.split())\n",
    "        S4 += num_word\n",
    "        N4 += 1\n",
    "\n",
    "    print(\"**Paragrpah Analysis**\")            \n",
    "    print(\"Novel starts at line =\", start_line) #108\n",
    "    print(\"Novel ends at line =\", end_line) #15428\n",
    "    print(\"Number of paragraphs =\", num_paragraphs) #2174\n",
    "    print(\"Average number of characters per paragraph (excluding spaces) =\", int(S1/N1)) #310\n",
    "    print(\"Average number of words per paragraph =\", int(S2/N2)) #73\n",
    "\n",
    "    print(\"\\n**Sentence Analysis**\")\n",
    "    print(\"Number of sentences =\", len(sentences)) #Most likely messed up the Sentence Analysis\n",
    "    print(\"Average number of characters per sentence (excluding spaces) =\", int(S3 / N3))\n",
    "    print(\"Average number of words per sentence =\", int(S4 / N4))\n",
    "\n",
    "\n",
    "analyze_paragraph('dracula.txt')"
   ]
  },
  {
   "attachments": {},
   "cell_type": "markdown",
   "metadata": {},
   "source": [
    "\n",
    "**OPTIONAL EXTRA CREDIT** \n",
    "  * Repeat the exercise, but for sentences instead of paragraphs\n",
    "\n",
    "  * That is, build a python list called \"sentences\" which contain each sentence in the novel \n",
    "  * Then repeat the analysis (output the numbers of sentence, and the average number of words and characters per sentence)\n",
    "  * **Sentence definition**: \n",
    "    * For the purposes of this exercise, consider a sentence to be any chunk of text that is longer than 50 characters AND starts with the following substring \". X\", where X is any upper-case letter.\n",
    "    * OR any stand alone line or text, for example, \"JONATHAN HARKER'S JOURNAL\"\n"
   ]
  },
  {
   "cell_type": "code",
   "execution_count": 47,
   "metadata": {},
   "outputs": [
    {
     "name": "stdout",
     "output_type": "stream",
     "text": [
      "Novel starts at line = 108\n",
      "Novel ends at line = 15428\n",
      "Number of paragraphs = 2174\n",
      "Average number of characters per paragraph (excluding spaces) = 310\n",
      "Average number of words per paragraph = 73\n",
      "\n",
      "**Sentence Analysis**\n",
      "Number of sentences = 11380\n",
      "Average number of characters per sentence (excluding spaces) = 56\n",
      "Average number of words per sentence = 13\n"
     ]
    }
   ],
   "source": [
    "analyze_paragraph(\"dracula.txt\")"
   ]
  }
 ],
 "metadata": {
  "interpreter": {
   "hash": "855d0e5e3014face4a7c77ef0d00c0f0d4790db1d0a64e73ac3b23cda8e76110"
  },
  "kernelspec": {
   "display_name": "Python 3 (ipykernel)",
   "language": "python",
   "name": "python3"
  },
  "language_info": {
   "codemirror_mode": {
    "name": "ipython",
    "version": 3
   },
   "file_extension": ".py",
   "mimetype": "text/x-python",
   "name": "python",
   "nbconvert_exporter": "python",
   "pygments_lexer": "ipython3",
   "version": "3.11.7"
  }
 },
 "nbformat": 4,
 "nbformat_minor": 4
}
